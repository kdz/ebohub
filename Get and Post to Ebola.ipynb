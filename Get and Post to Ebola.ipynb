{
 "metadata": {
  "name": "",
  "signature": "sha256:4f1e9dfc506a4ac141824ce6fe4f9ed51cd03b58960821fcd23f40444f6eb44a"
 },
 "nbformat": 3,
 "nbformat_minor": 0,
 "worksheets": [
  {
   "cells": [
    {
     "cell_type": "code",
     "collapsed": false,
     "input": [
      "import requests as R"
     ],
     "language": "python",
     "metadata": {},
     "outputs": [],
     "prompt_number": 20
    },
    {
     "cell_type": "code",
     "collapsed": false,
     "input": [
      "Ebola = \"http://127.0.0.1:5000\""
     ],
     "language": "python",
     "metadata": {},
     "outputs": [],
     "prompt_number": 21
    },
    {
     "cell_type": "code",
     "collapsed": false,
     "input": [
      "def post(route, data):\n",
      "    return R.post(Ebola + route, data=data)\n",
      "def get(route, params):\n",
      "    return R.get(Ebola + route, params=params)"
     ],
     "language": "python",
     "metadata": {},
     "outputs": [],
     "prompt_number": 22
    },
    {
     "cell_type": "code",
     "collapsed": false,
     "input": [
      "def sms(sender, body):\n",
      "    return post('/new_sms', {'From': sender, 'Body': body}).text"
     ],
     "language": "python",
     "metadata": {},
     "outputs": [],
     "prompt_number": 23
    },
    {
     "cell_type": "heading",
     "level": 2,
     "metadata": {},
     "source": [
      "Patients"
     ]
    },
    {
     "cell_type": "code",
     "collapsed": false,
     "input": [
      "bob = '15122581111'\n",
      "don = '15126898496'\n",
      "sam = '151225582222'"
     ],
     "language": "python",
     "metadata": {},
     "outputs": [],
     "prompt_number": 24
    },
    {
     "cell_type": "heading",
     "level": 2,
     "metadata": {},
     "source": [
      "Health Care Workers"
     ]
    },
    {
     "cell_type": "code",
     "collapsed": false,
     "input": [
      "maria = '15122583333'\n",
      "tina = '15126892957'\n",
      "kelsey = '15123639556'"
     ],
     "language": "python",
     "metadata": {},
     "outputs": [],
     "prompt_number": 25
    },
    {
     "cell_type": "code",
     "collapsed": false,
     "input": [
      "sms(\"5129999999\", \"checking\")"
     ],
     "language": "python",
     "metadata": {},
     "outputs": [
      {
       "metadata": {},
       "output_type": "pyout",
       "prompt_number": 26,
       "text": [
        "'<?xml version=\"1.0\" encoding=\"UTF-8\"?><Response><Sms>Message not recognized. Text \\'#help\\' for options.</Sms></Response>'"
       ]
      }
     ],
     "prompt_number": 26
    },
    {
     "cell_type": "code",
     "collapsed": false,
     "input": [
      "sms(\"5129999999\", \"#help\")"
     ],
     "language": "python",
     "metadata": {},
     "outputs": [
      {
       "metadata": {},
       "output_type": "pyout",
       "prompt_number": 27,
       "text": [
        "'<?xml version=\"1.0\" encoding=\"UTF-8\"?><Response><Sms>\\'#info\\' or \\'loc {loc}\\' or \\'contacted {c}\\' or \\'i\\'m sick\\' or \\'help\\'</Sms></Response>'"
       ]
      }
     ],
     "prompt_number": 27
    },
    {
     "cell_type": "code",
     "collapsed": false,
     "input": [
      "sms(\"5129999999\", \"i'm sick\")"
     ],
     "language": "python",
     "metadata": {},
     "outputs": [
      {
       "metadata": {},
       "output_type": "pyout",
       "prompt_number": 28,
       "text": [
        "'<?xml version=\"1.0\" encoding=\"UTF-8\"?><Response><Sms>Your status has been updated. Please quarantine yourself.No health worker currently available. Please try again later.</Sms></Response>'"
       ]
      }
     ],
     "prompt_number": 28
    },
    {
     "cell_type": "code",
     "collapsed": false,
     "input": [
      "sms(kelsey, \"todo\")"
     ],
     "language": "python",
     "metadata": {},
     "outputs": [
      {
       "metadata": {},
       "output_type": "pyout",
       "prompt_number": 29,
       "text": [
        "'<?xml version=\"1.0\" encoding=\"UTF-8\"?><Response><Sms>INFECTED: \\n SUSPECT: &lt;Chiefdom: \\'Yorkville\\'&gt; sam phone: 151225582222  , &lt;Chiefdom: \\'Yorkville\\'&gt; don phone: 15126898496  \\nEXPOSED: </Sms></Response>'"
       ]
      }
     ],
     "prompt_number": 29
    },
    {
     "cell_type": "code",
     "collapsed": false,
     "input": [
      "sms(kelsey, \"update 3 infected\")"
     ],
     "language": "python",
     "metadata": {},
     "outputs": [
      {
       "metadata": {},
       "output_type": "pyout",
       "prompt_number": 30,
       "text": [
        "'<?xml version=\"1.0\" encoding=\"UTF-8\"?><Response><Sms>status infected for sam accepted</Sms></Response>'"
       ]
      }
     ],
     "prompt_number": 30
    },
    {
     "cell_type": "code",
     "collapsed": false,
     "input": [
      "sms(kelsey, \"todo\")"
     ],
     "language": "python",
     "metadata": {},
     "outputs": [
      {
       "metadata": {},
       "output_type": "pyout",
       "prompt_number": 31,
       "text": [
        "'<?xml version=\"1.0\" encoding=\"UTF-8\"?><Response><Sms>INFECTED: &lt;Chiefdom: \\'Yorkville\\'&gt; sam phone: 151225582222  \\n SUSPECT: &lt;Chiefdom: \\'Yorkville\\'&gt; don phone: 15126898496  \\nEXPOSED: </Sms></Response>'"
       ]
      }
     ],
     "prompt_number": 31
    },
    {
     "cell_type": "code",
     "collapsed": false,
     "input": [
      "sms(kelsey, \"patient 1 contacted 5128888888\")"
     ],
     "language": "python",
     "metadata": {},
     "outputs": [
      {
       "metadata": {},
       "output_type": "pyout",
       "prompt_number": 33,
       "text": [
        "'<?xml version=\"1.0\" encoding=\"UTF-8\"?><Response><Sms>origin not found, or contact already linked to an origin</Sms></Response>'"
       ]
      }
     ],
     "prompt_number": 33
    },
    {
     "cell_type": "code",
     "collapsed": false,
     "input": [
      "sms(kelsey, \"patient 1 contacted 5127777777\")"
     ],
     "language": "python",
     "metadata": {},
     "outputs": [
      {
       "metadata": {},
       "output_type": "pyout",
       "prompt_number": 34,
       "text": [
        "'<?xml version=\"1.0\" encoding=\"UTF-8\"?><Response><Sms>origin found, contact &lt;Patient: \"?: 5127777777: &lt;Chiefdom: \\'Harlem\\'&gt;\"&gt; added</Sms></Response>'"
       ]
      }
     ],
     "prompt_number": 34
    },
    {
     "cell_type": "code",
     "collapsed": false,
     "input": [
      "sms(kelsey, \"todo\")"
     ],
     "language": "python",
     "metadata": {},
     "outputs": [
      {
       "metadata": {},
       "output_type": "pyout",
       "prompt_number": 48,
       "text": [
        "'<?xml version=\"1.0\" encoding=\"UTF-8\"?><Response><Sms>INFECTED: &lt;Chiefdom: \\'Yorkville\\'&gt; sam phone: 151225582222  \\n SUSPECT: &lt;Chiefdom: \\'Yorkville\\'&gt; don phone: 15126898496  \\nEXPOSED: &lt;Chiefdom: \\'Yorkville\\'&gt; ? phone: 5127777777  </Sms></Response>'"
       ]
      }
     ],
     "prompt_number": 48
    },
    {
     "cell_type": "code",
     "collapsed": false,
     "input": [
      "sms(\"5127777777\", 'loc Yorkville')"
     ],
     "language": "python",
     "metadata": {},
     "outputs": [
      {
       "metadata": {},
       "output_type": "pyout",
       "prompt_number": 49,
       "text": [
        "'<?xml version=\"1.0\" encoding=\"UTF-8\"?><Response><Sms>Location updated to Yorkville. </Sms></Response>'"
       ]
      }
     ],
     "prompt_number": 49
    },
    {
     "cell_type": "code",
     "collapsed": false,
     "input": [],
     "language": "python",
     "metadata": {},
     "outputs": []
    },
    {
     "cell_type": "code",
     "collapsed": false,
     "input": [
      "from messages import *"
     ],
     "language": "python",
     "metadata": {},
     "outputs": [
      {
       "output_type": "stream",
       "stream": "stdout",
       "text": [
        "Database dict: {'port': 5432, 'user': None, 'password': None, 'name': 'localDB', 'engine': 'peewee.PostgresqlDatabase', 'host': 'localhost'}\n"
       ]
      }
     ],
     "prompt_number": 50
    },
    {
     "cell_type": "heading",
     "level": 3,
     "metadata": {},
     "source": [
      "Automatic Help Text"
     ]
    },
    {
     "cell_type": "code",
     "collapsed": false,
     "input": [
      "def hc_help(*a, **k):\n",
      "    return ',\\n'.join([patt for patt, func in Messages[HCWorker]])\n",
      "def patient_help(*a, **k):\n",
      "    return ',\\n'.join([patt for patt, func in Messages[Patient]])"
     ],
     "language": "python",
     "metadata": {},
     "outputs": [],
     "prompt_number": 55
    },
    {
     "cell_type": "code",
     "collapsed": false,
     "input": [
      "Messages = {\n",
      "    HCWorker: [(\"loc {loc}\", location),  # ==> res.named == {'loc' : 'austin'}\n",
      "               (\"todo\", todo_for_worker),\n",
      "               (\"update {case_id:d} {status}\", update_case),\n",
      "               (\"test {patient_phone} \", new_case),\n",
      "     #          (\"new {patient_name} loc {patient_loc} phone {patient_phone} status {patient_status}\", new_case),\n",
      "               (\"i'm sick\", worker_infected),\n",
      "               (\"patient {origin_id:d} contacted {contact_phone}\", exposed),\n",
      "               (\"#help\", hc_help)],\n",
      "    Patient:  [(\"#info\", INFO),\n",
      "               (\"loc {loc}\", location),\n",
      "#               (\"contacted {c}\", contacts),  # ==> res.named == {'c' : 'samuel'}\n",
      "               (\"i'm sick\", patient_infected),\n",
      "               (\"#help\", patient_help)]\n",
      "}"
     ],
     "language": "python",
     "metadata": {},
     "outputs": [],
     "prompt_number": 56
    },
    {
     "cell_type": "code",
     "collapsed": false,
     "input": [
      "hc_help()"
     ],
     "language": "python",
     "metadata": {},
     "outputs": [
      {
       "metadata": {},
       "output_type": "pyout",
       "prompt_number": 57,
       "text": [
        "\"loc {loc},\\ntodo,\\nupdate {case_id:d} {status},\\ntest {patient_phone} ,\\ni'm sick,\\npatient {origin_id:d} contacted {contact_phone},\\n#help\""
       ]
      }
     ],
     "prompt_number": 57
    },
    {
     "cell_type": "code",
     "collapsed": false,
     "input": [
      "patient_help()"
     ],
     "language": "python",
     "metadata": {},
     "outputs": [
      {
       "metadata": {},
       "output_type": "pyout",
       "prompt_number": 58,
       "text": [
        "\"#info,\\nloc {loc},\\ni'm sick,\\n#help\""
       ]
      }
     ],
     "prompt_number": 58
    },
    {
     "cell_type": "code",
     "collapsed": false,
     "input": [],
     "language": "python",
     "metadata": {},
     "outputs": []
    }
   ],
   "metadata": {}
  }
 ]
}